{
 "cells": [
  {
   "cell_type": "code",
   "execution_count": null,
   "metadata": {},
   "outputs": [],
   "source": [
    "from geopy.geocoders import Nominatim\n",
    "import folium,pandas\n",
    "nom = Nominatim()\n",
    "trace = input(\"Enter the place to find : \")\n",
    "location = nom.geocode(trace)\n",
    "lat = location.latitude\n",
    "log = location.longitude\n",
    "Ma = folium.Map(location=[lat, log], zoom_start=20, width='100%', height='100%')\n",
    "Ma.add_child(folium.Marker([lat,log], popup=trace))\n",
    "Ma"
   ]
  }
 ],
 "metadata": {
  "kernelspec": {
   "display_name": "Python 3",
   "language": "python",
   "name": "python3"
  },
  "language_info": {
   "codemirror_mode": {
    "name": "ipython",
    "version": 3
   },
   "file_extension": ".py",
   "mimetype": "text/x-python",
   "name": "python",
   "nbconvert_exporter": "python",
   "pygments_lexer": "ipython3",
   "version": "3.6.1"
  }
 },
 "nbformat": 4,
 "nbformat_minor": 2
}
